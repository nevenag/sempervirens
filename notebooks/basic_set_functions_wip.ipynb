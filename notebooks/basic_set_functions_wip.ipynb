{
 "cells": [
  {
   "cell_type": "code",
   "execution_count": null,
   "id": "6fccde4c-f30d-4715-a649-b918fb2aa973",
   "metadata": {},
   "outputs": [],
   "source": [
    "import numpy as np\n",
    "import scipy.stats as st\n"
   ]
  },
  {
   "cell_type": "code",
   "execution_count": null,
   "id": "d481c80e-06ed-4dd5-a68b-c384dc649a3b",
   "metadata": {},
   "outputs": [],
   "source": [
    "def computeprob(x1,x2): # both vectors are assumed to be probability vectors, each element shows the probability of that index being 1\n",
    "    \n",
    "    x1supeqx2=np.prod(1-(1-x1)*x2)\n",
    "    x1subeqx2=np.prod(1-(1-x2)*x1)\n",
    "    x1eqx2=np.prod((1-x1)*(1-x2)+x1*x2)\n",
    "    x1disx2=1+x1eqx2-x1subeqx2-x1supeqx2\n",
    "     \n",
    "    \n",
    "    return [x1subeqx2*(x1subeqx2>0),x1supeqx2*(x1supeqx2>0),x1eqx2*(x1eqx2>0),x1disx2*(x1disx2>0)]\n",
    "    \n",
    "def unprob(x1,x2): # probability of the union set\n",
    "    return 1-(1-x1)*(1-x2)\n",
    "\n",
    "        "
   ]
  },
  {
   "cell_type": "code",
   "execution_count": null,
   "id": "a102b02d-2f6c-42eb-b810-75de9cca3d10",
   "metadata": {},
   "outputs": [],
   "source": [
    "a=np.array([0.3,0.4,0.9])\n",
    "b=np.array([0.2,0.1,0.5])\n",
    "print(computeprob(a,b))\n",
    "print(st.entropy(computeprob(a,b),base=4))\n",
    "\n",
    "print(unprob(a,b))"
   ]
  },
  {
   "cell_type": "code",
   "execution_count": null,
   "id": "71aa5ca9-a59c-4cba-a6a0-72d66460b700",
   "metadata": {},
   "outputs": [],
   "source": [
    "st.entropy(np.array([0.25,0.25,0.25,0.25]),base = 4)"
   ]
  },
  {
   "cell_type": "code",
   "execution_count": null,
   "id": "4dad427d-d0a4-4f8d-8330-3a554c5d6d18",
   "metadata": {},
   "outputs": [],
   "source": [
    "np.prod(a*b+(1-a)*(1-b))"
   ]
  },
  {
   "cell_type": "code",
   "execution_count": null,
   "id": "55aa2c07-89d4-4825-9dc0-c8eb450b125d",
   "metadata": {},
   "outputs": [],
   "source": [
    "np.prod([0.62])"
   ]
  },
  {
   "cell_type": "code",
   "execution_count": null,
   "id": "575cceb1-55b9-4005-9f14-dc6969d23039",
   "metadata": {},
   "outputs": [],
   "source": [
    "c=np.array([0.3,-0.6])\n"
   ]
  },
  {
   "cell_type": "code",
   "execution_count": null,
   "id": "348d550c-0885-4d17-bc70-e5dcb0f85328",
   "metadata": {},
   "outputs": [],
   "source": [
    "-0. == 0"
   ]
  },
  {
   "cell_type": "code",
   "execution_count": null,
   "id": "ea1c77b8-c6f9-4cad-b9e0-5bafdc35a3d9",
   "metadata": {},
   "outputs": [],
   "source": []
  }
 ],
 "metadata": {
  "kernelspec": {
   "display_name": "Python 3 (ipykernel)",
   "language": "python",
   "name": "python3"
  },
  "language_info": {
   "codemirror_mode": {
    "name": "ipython",
    "version": 3
   },
   "file_extension": ".py",
   "mimetype": "text/x-python",
   "name": "python",
   "nbconvert_exporter": "python",
   "pygments_lexer": "ipython3",
   "version": "3.9.7"
  }
 },
 "nbformat": 4,
 "nbformat_minor": 5
}
