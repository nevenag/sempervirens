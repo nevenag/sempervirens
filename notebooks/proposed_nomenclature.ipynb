{
 "cells": [
  {
   "cell_type": "code",
   "execution_count": null,
   "id": "d71ff1c8-f844-4ac3-a68e-60b9d9a3a6af",
   "metadata": {},
   "outputs": [],
   "source": [
    "## Set arithmetics "
   ]
  },
  {
   "cell_type": "code",
   "execution_count": null,
   "id": "754697f6-c31d-44a2-b249-76579a20552d",
   "metadata": {},
   "outputs": [],
   "source": [
    "# Set of noisy vectors"
   ]
  },
  {
   "cell_type": "code",
   "execution_count": null,
   "id": "9f7877ac-180e-4587-a6c0-1ab148f9290d",
   "metadata": {},
   "outputs": [],
   "source": [
    "# a_bar[i][0], a_bar[i][1], ..., a_bar[ i][m-1]"
   ]
  },
  {
   "cell_type": "code",
   "execution_count": null,
   "id": "ea289a3e-9d45-4276-a281-ea40a2a058ca",
   "metadata": {},
   "outputs": [],
   "source": [
    "# Set of element-wise probabilities that each element is in the set given the noisy element"
   ]
  },
  {
   "cell_type": "code",
   "execution_count": null,
   "id": "07ff86a3-c417-458a-b116-f28a0903e0e8",
   "metadata": {},
   "outputs": [],
   "source": [
    "# p[i][0], p[i][1], ..., p[i][m-1]"
   ]
  },
  {
   "cell_type": "code",
   "execution_count": null,
   "id": "a4d5ad9c-7f13-4380-bae3-3e6577d57ef3",
   "metadata": {},
   "outputs": [],
   "source": [
    "# Real value of the set -- available only in tests"
   ]
  },
  {
   "cell_type": "code",
   "execution_count": null,
   "id": "527e946b-6eee-4577-8a41-bc3d4f101226",
   "metadata": {},
   "outputs": [],
   "source": [
    "# a[i][0], a[i][1], a[i][m-1]"
   ]
  },
  {
   "cell_type": "code",
   "execution_count": null,
   "id": "a93fbc85-237a-4d4a-a77f-ccb667de43e4",
   "metadata": {},
   "outputs": [],
   "source": []
  }
 ],
 "metadata": {
  "kernelspec": {
   "display_name": "Python 3 (ipykernel)",
   "language": "python",
   "name": "python3"
  },
  "language_info": {
   "codemirror_mode": {
    "name": "ipython",
    "version": 3
   },
   "file_extension": ".py",
   "mimetype": "text/x-python",
   "name": "python",
   "nbconvert_exporter": "python",
   "pygments_lexer": "ipython3",
   "version": "3.9.7"
  }
 },
 "nbformat": 4,
 "nbformat_minor": 5
}
